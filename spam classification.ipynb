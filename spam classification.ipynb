{
 "cells": [
  {
   "cell_type": "code",
   "execution_count": 45,
   "id": "a63c2b50",
   "metadata": {},
   "outputs": [],
   "source": [
    "import numpy as np\n",
    "import pandas as pd\n",
    "import warnings\n",
    "warnings.filterwarnings('ignore')"
   ]
  },
  {
   "cell_type": "code",
   "execution_count": 46,
   "id": "c35e303b",
   "metadata": {},
   "outputs": [],
   "source": [
    "df = pd.read_csv('spam.csv',encoding=\"ISO-8859-1\")"
   ]
  },
  {
   "cell_type": "code",
   "execution_count": 47,
   "id": "4d646e49",
   "metadata": {},
   "outputs": [
    {
     "data": {
      "text/html": [
       "<div>\n",
       "<style scoped>\n",
       "    .dataframe tbody tr th:only-of-type {\n",
       "        vertical-align: middle;\n",
       "    }\n",
       "\n",
       "    .dataframe tbody tr th {\n",
       "        vertical-align: top;\n",
       "    }\n",
       "\n",
       "    .dataframe thead th {\n",
       "        text-align: right;\n",
       "    }\n",
       "</style>\n",
       "<table border=\"1\" class=\"dataframe\">\n",
       "  <thead>\n",
       "    <tr style=\"text-align: right;\">\n",
       "      <th></th>\n",
       "      <th>v1</th>\n",
       "      <th>v2</th>\n",
       "      <th>Unnamed: 2</th>\n",
       "      <th>Unnamed: 3</th>\n",
       "      <th>Unnamed: 4</th>\n",
       "    </tr>\n",
       "  </thead>\n",
       "  <tbody>\n",
       "    <tr>\n",
       "      <th>0</th>\n",
       "      <td>ham</td>\n",
       "      <td>Go until jurong point, crazy.. Available only ...</td>\n",
       "      <td>NaN</td>\n",
       "      <td>NaN</td>\n",
       "      <td>NaN</td>\n",
       "    </tr>\n",
       "    <tr>\n",
       "      <th>1</th>\n",
       "      <td>ham</td>\n",
       "      <td>Ok lar... Joking wif u oni...</td>\n",
       "      <td>NaN</td>\n",
       "      <td>NaN</td>\n",
       "      <td>NaN</td>\n",
       "    </tr>\n",
       "    <tr>\n",
       "      <th>2</th>\n",
       "      <td>spam</td>\n",
       "      <td>Free entry in 2 a wkly comp to win FA Cup fina...</td>\n",
       "      <td>NaN</td>\n",
       "      <td>NaN</td>\n",
       "      <td>NaN</td>\n",
       "    </tr>\n",
       "    <tr>\n",
       "      <th>3</th>\n",
       "      <td>ham</td>\n",
       "      <td>U dun say so early hor... U c already then say...</td>\n",
       "      <td>NaN</td>\n",
       "      <td>NaN</td>\n",
       "      <td>NaN</td>\n",
       "    </tr>\n",
       "    <tr>\n",
       "      <th>4</th>\n",
       "      <td>ham</td>\n",
       "      <td>Nah I don't think he goes to usf, he lives aro...</td>\n",
       "      <td>NaN</td>\n",
       "      <td>NaN</td>\n",
       "      <td>NaN</td>\n",
       "    </tr>\n",
       "  </tbody>\n",
       "</table>\n",
       "</div>"
      ],
      "text/plain": [
       "     v1                                                 v2 Unnamed: 2  \\\n",
       "0   ham  Go until jurong point, crazy.. Available only ...        NaN   \n",
       "1   ham                      Ok lar... Joking wif u oni...        NaN   \n",
       "2  spam  Free entry in 2 a wkly comp to win FA Cup fina...        NaN   \n",
       "3   ham  U dun say so early hor... U c already then say...        NaN   \n",
       "4   ham  Nah I don't think he goes to usf, he lives aro...        NaN   \n",
       "\n",
       "  Unnamed: 3 Unnamed: 4  \n",
       "0        NaN        NaN  \n",
       "1        NaN        NaN  \n",
       "2        NaN        NaN  \n",
       "3        NaN        NaN  \n",
       "4        NaN        NaN  "
      ]
     },
     "execution_count": 47,
     "metadata": {},
     "output_type": "execute_result"
    }
   ],
   "source": [
    "df.head()"
   ]
  },
  {
   "cell_type": "code",
   "execution_count": 48,
   "id": "77b64141",
   "metadata": {},
   "outputs": [
    {
     "data": {
      "text/plain": [
       "Index(['v1', 'v2', 'Unnamed: 2', 'Unnamed: 3', 'Unnamed: 4'], dtype='object')"
      ]
     },
     "execution_count": 48,
     "metadata": {},
     "output_type": "execute_result"
    }
   ],
   "source": [
    "df.columns"
   ]
  },
  {
   "cell_type": "markdown",
   "id": "1f65fd19",
   "metadata": {},
   "source": [
    "###### v1 is our target feature ,let's explore other features like Unnamed: 2,3 and 4"
   ]
  },
  {
   "cell_type": "code",
   "execution_count": 49,
   "id": "bed839ad",
   "metadata": {},
   "outputs": [
    {
     "data": {
      "text/plain": [
       "v1               0\n",
       "v2               0\n",
       "Unnamed: 2    5522\n",
       "Unnamed: 3    5560\n",
       "Unnamed: 4    5566\n",
       "dtype: int64"
      ]
     },
     "execution_count": 49,
     "metadata": {},
     "output_type": "execute_result"
    }
   ],
   "source": [
    "df.isnull().sum()"
   ]
  },
  {
   "cell_type": "code",
   "execution_count": 50,
   "id": "fb8cdec3",
   "metadata": {},
   "outputs": [
    {
     "data": {
      "text/plain": [
       "(5572, 5)"
      ]
     },
     "execution_count": 50,
     "metadata": {},
     "output_type": "execute_result"
    }
   ],
   "source": [
    "df.shape"
   ]
  },
  {
   "cell_type": "code",
   "execution_count": 51,
   "id": "f9a3882b",
   "metadata": {},
   "outputs": [],
   "source": [
    "## many values in unnamed columns are null"
   ]
  },
  {
   "cell_type": "code",
   "execution_count": 52,
   "id": "1e79397e",
   "metadata": {},
   "outputs": [
    {
     "data": {
      "text/html": [
       "<div>\n",
       "<style scoped>\n",
       "    .dataframe tbody tr th:only-of-type {\n",
       "        vertical-align: middle;\n",
       "    }\n",
       "\n",
       "    .dataframe tbody tr th {\n",
       "        vertical-align: top;\n",
       "    }\n",
       "\n",
       "    .dataframe thead th {\n",
       "        text-align: right;\n",
       "    }\n",
       "</style>\n",
       "<table border=\"1\" class=\"dataframe\">\n",
       "  <thead>\n",
       "    <tr style=\"text-align: right;\">\n",
       "      <th></th>\n",
       "      <th>v1</th>\n",
       "      <th>v2</th>\n",
       "      <th>Unnamed: 2</th>\n",
       "      <th>Unnamed: 3</th>\n",
       "      <th>Unnamed: 4</th>\n",
       "    </tr>\n",
       "  </thead>\n",
       "  <tbody>\n",
       "    <tr>\n",
       "      <th>95</th>\n",
       "      <td>spam</td>\n",
       "      <td>Your free ringtone is waiting to be collected....</td>\n",
       "      <td>PO Box 5249</td>\n",
       "      <td>MK17 92H. 450Ppw 16\"</td>\n",
       "      <td>NaN</td>\n",
       "    </tr>\n",
       "    <tr>\n",
       "      <th>281</th>\n",
       "      <td>ham</td>\n",
       "      <td>\\Wen u miss someone</td>\n",
       "      <td>the person is definitely special for u..... B...</td>\n",
       "      <td>why to miss them</td>\n",
       "      <td>just Keep-in-touch\\\" gdeve..\"</td>\n",
       "    </tr>\n",
       "    <tr>\n",
       "      <th>444</th>\n",
       "      <td>ham</td>\n",
       "      <td>\\HEY HEY WERETHE MONKEESPEOPLE SAY WE MONKEYAR...</td>\n",
       "      <td>HOWU DOIN? FOUNDURSELF A JOBYET SAUSAGE?LOVE ...</td>\n",
       "      <td>NaN</td>\n",
       "      <td>NaN</td>\n",
       "    </tr>\n",
       "    <tr>\n",
       "      <th>671</th>\n",
       "      <td>spam</td>\n",
       "      <td>SMS. ac sun0819 posts HELLO:\\You seem cool</td>\n",
       "      <td>wanted to say hi. HI!!!\\\" Stop? Send STOP to ...</td>\n",
       "      <td>NaN</td>\n",
       "      <td>NaN</td>\n",
       "    </tr>\n",
       "    <tr>\n",
       "      <th>710</th>\n",
       "      <td>ham</td>\n",
       "      <td>Height of Confidence: All the Aeronautics prof...</td>\n",
       "      <td>this wont even start........ Datz confidence..\"</td>\n",
       "      <td>NaN</td>\n",
       "      <td>NaN</td>\n",
       "    </tr>\n",
       "    <tr>\n",
       "      <th>899</th>\n",
       "      <td>spam</td>\n",
       "      <td>Your free ringtone is waiting to be collected....</td>\n",
       "      <td>PO Box 5249</td>\n",
       "      <td>MK17 92H. 450Ppw 16\"</td>\n",
       "      <td>NaN</td>\n",
       "    </tr>\n",
       "    <tr>\n",
       "      <th>1038</th>\n",
       "      <td>ham</td>\n",
       "      <td>Edison has rightly said, \\A fool can ask more ...</td>\n",
       "      <td>GN</td>\n",
       "      <td>GE</td>\n",
       "      <td>GNT:-)\"</td>\n",
       "    </tr>\n",
       "    <tr>\n",
       "      <th>1127</th>\n",
       "      <td>ham</td>\n",
       "      <td>Height of \\Oh shit....!!\\\" situation: A guy th...</td>\n",
       "      <td>.;-):-D\"</td>\n",
       "      <td>NaN</td>\n",
       "      <td>NaN</td>\n",
       "    </tr>\n",
       "    <tr>\n",
       "      <th>1266</th>\n",
       "      <td>ham</td>\n",
       "      <td>\\Hey sorry I didntgive ya a a bellearlier hunny</td>\n",
       "      <td>just been in bedbut mite go 2 thepub l8tr if u...</td>\n",
       "      <td>NaN</td>\n",
       "      <td>NaN</td>\n",
       "    </tr>\n",
       "    <tr>\n",
       "      <th>1384</th>\n",
       "      <td>ham</td>\n",
       "      <td>Storming msg: Wen u lift d phne, u say \\HELLO\\...</td>\n",
       "      <td>bt not his girlfrnd... G o o d n i g h t . . .@\"</td>\n",
       "      <td>NaN</td>\n",
       "      <td>NaN</td>\n",
       "    </tr>\n",
       "    <tr>\n",
       "      <th>1428</th>\n",
       "      <td>ham</td>\n",
       "      <td>Tell you what, if you make a little spreadshee...</td>\n",
       "      <td>I'll come up\"</td>\n",
       "      <td>NaN</td>\n",
       "      <td>NaN</td>\n",
       "    </tr>\n",
       "    <tr>\n",
       "      <th>1559</th>\n",
       "      <td>ham</td>\n",
       "      <td>Single line with a big meaning::::: \\Miss anyt...</td>\n",
       "      <td>don't miss ur best life for anything... Gud n...</td>\n",
       "      <td>NaN</td>\n",
       "      <td>NaN</td>\n",
       "    </tr>\n",
       "    <tr>\n",
       "      <th>1637</th>\n",
       "      <td>spam</td>\n",
       "      <td>0A$NETWORKS allow companies to bill for SMS, s...</td>\n",
       "      <td>just as a shop has to give a guarantee on wha...</td>\n",
       "      <td>NaN</td>\n",
       "      <td>NaN</td>\n",
       "    </tr>\n",
       "    <tr>\n",
       "      <th>1669</th>\n",
       "      <td>ham</td>\n",
       "      <td>Very hurting n meaningful lines ever: \\I compr...</td>\n",
       "      <td>But at d end my love compromised me for every...</td>\n",
       "      <td>NaN</td>\n",
       "      <td>NaN</td>\n",
       "    </tr>\n",
       "    <tr>\n",
       "      <th>1675</th>\n",
       "      <td>ham</td>\n",
       "      <td>Painful words- \\I thought being Happy was the ...</td>\n",
       "      <td>the toughest is acting Happy with all unspoke...</td>\n",
       "      <td>NaN</td>\n",
       "      <td>NaN</td>\n",
       "    </tr>\n",
       "    <tr>\n",
       "      <th>1936</th>\n",
       "      <td>ham</td>\n",
       "      <td>My planning usually stops at \\find hella weed</td>\n",
       "      <td>smoke hella weed\\\"\"</td>\n",
       "      <td>NaN</td>\n",
       "      <td>NaN</td>\n",
       "    </tr>\n",
       "    <tr>\n",
       "      <th>1937</th>\n",
       "      <td>ham</td>\n",
       "      <td>The fact that you're cleaning shows you know w...</td>\n",
       "      <td>\\\" not \\\"what i need to do.\\\"\"</td>\n",
       "      <td>NaN</td>\n",
       "      <td>NaN</td>\n",
       "    </tr>\n",
       "    <tr>\n",
       "      <th>1997</th>\n",
       "      <td>ham</td>\n",
       "      <td>\\YEH I AM DEF UP4 SOMETHING SAT</td>\n",
       "      <td>JUST GOT PAYED2DAY &amp; I HAVBEEN GIVEN Aå£50 PAY...</td>\n",
       "      <td>NaN</td>\n",
       "      <td>NaN</td>\n",
       "    </tr>\n",
       "    <tr>\n",
       "      <th>2087</th>\n",
       "      <td>ham</td>\n",
       "      <td>\\alright babe</td>\n",
       "      <td>justthought iåÕd sayhey! how u doin?nearly th...</td>\n",
       "      <td>NaN</td>\n",
       "      <td>NaN</td>\n",
       "    </tr>\n",
       "    <tr>\n",
       "      <th>2170</th>\n",
       "      <td>ham</td>\n",
       "      <td>\\CAN I PLEASE COME UP NOW IMIN TOWN.DONTMATTER...</td>\n",
       "      <td>JUST REALLYNEED 2DOCD.PLEASE DONTPLEASE DONTIG...</td>\n",
       "      <td>U NO THECD ISV.IMPORTANT TOME 4 2MORO\\\"\"</td>\n",
       "      <td>NaN</td>\n",
       "    </tr>\n",
       "    <tr>\n",
       "      <th>2235</th>\n",
       "      <td>ham</td>\n",
       "      <td>\\Si.como no?!listened2the plaid album-quite gd...</td>\n",
       "      <td>u hav2hear it!c u sn xxxx\\\"\"</td>\n",
       "      <td>NaN</td>\n",
       "      <td>NaN</td>\n",
       "    </tr>\n",
       "    <tr>\n",
       "      <th>2255</th>\n",
       "      <td>ham</td>\n",
       "      <td>I just lov this line: \\Hurt me with the truth</td>\n",
       "      <td>I don't mind</td>\n",
       "      <td>i wil tolerat.bcs ur my someone..... But</td>\n",
       "      <td>Never comfort me with a lie\\\" gud ni8 and swe...</td>\n",
       "    </tr>\n",
       "    <tr>\n",
       "      <th>2406</th>\n",
       "      <td>ham</td>\n",
       "      <td>One of best dialogue in cute reltnship..!! \\We...</td>\n",
       "      <td>Dont Come Near My Body..!! Bcoz My Hands May ...</td>\n",
       "      <td>NaN</td>\n",
       "      <td>NaN</td>\n",
       "    </tr>\n",
       "    <tr>\n",
       "      <th>2791</th>\n",
       "      <td>ham</td>\n",
       "      <td>Û_ we r stayin here an extra week, back next ...</td>\n",
       "      <td>Well there's still a bit left if you guys want...</td>\n",
       "      <td>NaN</td>\n",
       "      <td>NaN</td>\n",
       "    </tr>\n",
       "    <tr>\n",
       "      <th>2970</th>\n",
       "      <td>ham</td>\n",
       "      <td>Height of Confidence: All the Aeronautics prof...</td>\n",
       "      <td>this wont even start........ Datz confidence..\"</td>\n",
       "      <td>NaN</td>\n",
       "      <td>NaN</td>\n",
       "    </tr>\n",
       "    <tr>\n",
       "      <th>3110</th>\n",
       "      <td>ham</td>\n",
       "      <td>Short But Cute : \\ Be a good person</td>\n",
       "      <td>but dont try to prove\\\" ..... Gud mrng...\"</td>\n",
       "      <td>NaN</td>\n",
       "      <td>NaN</td>\n",
       "    </tr>\n",
       "    <tr>\n",
       "      <th>3145</th>\n",
       "      <td>ham</td>\n",
       "      <td>\\SHIT BABE.. THASA BIT MESSED UP.YEH</td>\n",
       "      <td>SHE SHUDVETOLD U. DID URGRAN KNOW?NEWAY</td>\n",
       "      <td>ILLSPEAK 2 U2MORO WEN IM NOT ASLEEP...\\\"\"</td>\n",
       "      <td>NaN</td>\n",
       "    </tr>\n",
       "    <tr>\n",
       "      <th>3239</th>\n",
       "      <td>ham</td>\n",
       "      <td>A cute thought for friendship: \\Its not necess...</td>\n",
       "      <td>but watever u shared should be true\\\"....\"</td>\n",
       "      <td>NaN</td>\n",
       "      <td>NaN</td>\n",
       "    </tr>\n",
       "    <tr>\n",
       "      <th>3506</th>\n",
       "      <td>ham</td>\n",
       "      <td>Two fundamentals of cool life: \\Walk</td>\n",
       "      <td>like you are the KING\\\"...! OR \\\"Walk like yo...</td>\n",
       "      <td>whoever is the KING\\\"!... Gud nyt\"</td>\n",
       "      <td>NaN</td>\n",
       "    </tr>\n",
       "    <tr>\n",
       "      <th>3525</th>\n",
       "      <td>ham</td>\n",
       "      <td>\\HEY BABE! FAR 2 SPUN-OUT 2 SPK AT DA MO... DE...</td>\n",
       "      <td>HAD A COOL NYTHO</td>\n",
       "      <td>TX 4 FONIN HON</td>\n",
       "      <td>CALL 2MWEN IM BK FRMCLOUD 9! J X\\\"\"</td>\n",
       "    </tr>\n",
       "    <tr>\n",
       "      <th>3547</th>\n",
       "      <td>ham</td>\n",
       "      <td>Single line with a big meaning::::: \\Miss anyt...</td>\n",
       "      <td>don't miss ur best life for anything... Gud n...</td>\n",
       "      <td>NaN</td>\n",
       "      <td>NaN</td>\n",
       "    </tr>\n",
       "    <tr>\n",
       "      <th>3640</th>\n",
       "      <td>spam</td>\n",
       "      <td>You can stop further club tones by replying \\S...</td>\n",
       "      <td>PO Box 1146 MK45 2WT (2/3)\"</td>\n",
       "      <td>NaN</td>\n",
       "      <td>NaN</td>\n",
       "    </tr>\n",
       "    <tr>\n",
       "      <th>3758</th>\n",
       "      <td>ham</td>\n",
       "      <td>GOD ASKED, \\What is forgiveness?\\\" A little ch...</td>\n",
       "      <td>\\\"It is d wonderful fruit that a tree gives w...</td>\n",
       "      <td>NaN</td>\n",
       "      <td>NaN</td>\n",
       "    </tr>\n",
       "    <tr>\n",
       "      <th>3788</th>\n",
       "      <td>ham</td>\n",
       "      <td>Are you sure you don't mean \\get here</td>\n",
       "      <td>we made you hold all the weed\\\"\"</td>\n",
       "      <td>NaN</td>\n",
       "      <td>NaN</td>\n",
       "    </tr>\n",
       "    <tr>\n",
       "      <th>3793</th>\n",
       "      <td>ham</td>\n",
       "      <td>Short But Cute: \\Be a good person</td>\n",
       "      <td>but dont try to prove it..\\\" .Gud noon....\"</td>\n",
       "      <td>NaN</td>\n",
       "      <td>NaN</td>\n",
       "    </tr>\n",
       "    <tr>\n",
       "      <th>3881</th>\n",
       "      <td>ham</td>\n",
       "      <td>Short But Cute: \\Be a good person</td>\n",
       "      <td>but dont try to prove it..\\\" .Gud noon....\"</td>\n",
       "      <td>NaN</td>\n",
       "      <td>NaN</td>\n",
       "    </tr>\n",
       "    <tr>\n",
       "      <th>4130</th>\n",
       "      <td>ham</td>\n",
       "      <td>\\Its Ur luck to Love someone. Its Ur fortune t...</td>\n",
       "      <td>its a miracle to Love a person who can't Love...</td>\n",
       "      <td>NaN</td>\n",
       "      <td>NaN</td>\n",
       "    </tr>\n",
       "    <tr>\n",
       "      <th>4224</th>\n",
       "      <td>ham</td>\n",
       "      <td>\\The world suffers a lot... Not because of the...</td>\n",
       "      <td>Gud night....\"</td>\n",
       "      <td>NaN</td>\n",
       "      <td>NaN</td>\n",
       "    </tr>\n",
       "    <tr>\n",
       "      <th>4454</th>\n",
       "      <td>ham</td>\n",
       "      <td>Storming msg: Wen u lift d phne, u say \\HELLO\\...</td>\n",
       "      <td>bt not his girlfrnd... G o o d n i g h t . . .@\"</td>\n",
       "      <td>NaN</td>\n",
       "      <td>NaN</td>\n",
       "    </tr>\n",
       "    <tr>\n",
       "      <th>4455</th>\n",
       "      <td>ham</td>\n",
       "      <td>If you want to mapquest it or something look u...</td>\n",
       "      <td>that's the tiny street where the parking lot is\"</td>\n",
       "      <td>NaN</td>\n",
       "      <td>NaN</td>\n",
       "    </tr>\n",
       "    <tr>\n",
       "      <th>4570</th>\n",
       "      <td>ham</td>\n",
       "      <td>\\CHA QUITEAMUZING THATåÕSCOOL BABE</td>\n",
       "      <td>PROBPOP IN &amp; CU SATTHEN HUNNY 4BREKKIE! LOVE J...</td>\n",
       "      <td>NaN</td>\n",
       "      <td>NaN</td>\n",
       "    </tr>\n",
       "    <tr>\n",
       "      <th>4601</th>\n",
       "      <td>ham</td>\n",
       "      <td>\\Hey j! r u feeling any better</td>\n",
       "      <td>hopeSo hunny. i amnow feelin ill &amp; ithink i m...</td>\n",
       "      <td>NaN</td>\n",
       "      <td>NaN</td>\n",
       "    </tr>\n",
       "    <tr>\n",
       "      <th>4668</th>\n",
       "      <td>ham</td>\n",
       "      <td>When I was born, GOD said, \\Oh No! Another IDI...</td>\n",
       "      <td>GOD said</td>\n",
       "      <td>\\\"OH No! COMPETITION\\\". Who knew</td>\n",
       "      <td>one day these two will become FREINDS FOREVER!\"</td>\n",
       "    </tr>\n",
       "    <tr>\n",
       "      <th>4859</th>\n",
       "      <td>ham</td>\n",
       "      <td>\\Response\\\" is one of d powerful weapon 2 occu...</td>\n",
       "      <td>always give response 2 who cares 4 U\\\"... Gud...</td>\n",
       "      <td>NaN</td>\n",
       "      <td>NaN</td>\n",
       "    </tr>\n",
       "    <tr>\n",
       "      <th>4992</th>\n",
       "      <td>ham</td>\n",
       "      <td>\\HEY KATE</td>\n",
       "      <td>HOPE UR OK... WILL GIVE U A BUZ WEDLUNCH. GO ...</td>\n",
       "      <td>NaN</td>\n",
       "      <td>NaN</td>\n",
       "    </tr>\n",
       "    <tr>\n",
       "      <th>5048</th>\n",
       "      <td>ham</td>\n",
       "      <td>Edison has rightly said, \\A fool can ask more ...</td>\n",
       "      <td>GN</td>\n",
       "      <td>GE</td>\n",
       "      <td>GNT:-)\"</td>\n",
       "    </tr>\n",
       "    <tr>\n",
       "      <th>5079</th>\n",
       "      <td>ham</td>\n",
       "      <td>\\Keep ur problems in ur heart</td>\n",
       "      <td>b'coz nobody will fight for u. Only u &amp;amp; u...</td>\n",
       "      <td>NaN</td>\n",
       "      <td>NaN</td>\n",
       "    </tr>\n",
       "    <tr>\n",
       "      <th>5081</th>\n",
       "      <td>ham</td>\n",
       "      <td>\\HI BABE UAWAKE?FEELLIKW SHIT.JUSTFOUND OUT VI...</td>\n",
       "      <td>DEVIOUSBITCH.ANYWAY</td>\n",
       "      <td>IåÕL CALL U\\\"\"</td>\n",
       "      <td>NaN</td>\n",
       "    </tr>\n",
       "    <tr>\n",
       "      <th>5264</th>\n",
       "      <td>ham</td>\n",
       "      <td>Storming msg: Wen u lift d phne, u say \\HELLO\\...</td>\n",
       "      <td>bt not his girlfrnd... G o o d n i g h t . . .@\"</td>\n",
       "      <td>NaN</td>\n",
       "      <td>NaN</td>\n",
       "    </tr>\n",
       "    <tr>\n",
       "      <th>5268</th>\n",
       "      <td>ham</td>\n",
       "      <td>\\ER</td>\n",
       "      <td>ENJOYIN INDIANS AT THE MO..yeP. SaLL gOoD Heh...</td>\n",
       "      <td>NaN</td>\n",
       "      <td>NaN</td>\n",
       "    </tr>\n",
       "  </tbody>\n",
       "</table>\n",
       "</div>"
      ],
      "text/plain": [
       "        v1                                                 v2  \\\n",
       "95    spam  Your free ringtone is waiting to be collected....   \n",
       "281    ham                                \\Wen u miss someone   \n",
       "444    ham  \\HEY HEY WERETHE MONKEESPEOPLE SAY WE MONKEYAR...   \n",
       "671   spam         SMS. ac sun0819 posts HELLO:\\You seem cool   \n",
       "710    ham  Height of Confidence: All the Aeronautics prof...   \n",
       "899   spam  Your free ringtone is waiting to be collected....   \n",
       "1038   ham  Edison has rightly said, \\A fool can ask more ...   \n",
       "1127   ham  Height of \\Oh shit....!!\\\" situation: A guy th...   \n",
       "1266   ham    \\Hey sorry I didntgive ya a a bellearlier hunny   \n",
       "1384   ham  Storming msg: Wen u lift d phne, u say \\HELLO\\...   \n",
       "1428   ham  Tell you what, if you make a little spreadshee...   \n",
       "1559   ham  Single line with a big meaning::::: \\Miss anyt...   \n",
       "1637  spam  0A$NETWORKS allow companies to bill for SMS, s...   \n",
       "1669   ham  Very hurting n meaningful lines ever: \\I compr...   \n",
       "1675   ham  Painful words- \\I thought being Happy was the ...   \n",
       "1936   ham      My planning usually stops at \\find hella weed   \n",
       "1937   ham  The fact that you're cleaning shows you know w...   \n",
       "1997   ham                    \\YEH I AM DEF UP4 SOMETHING SAT   \n",
       "2087   ham                                      \\alright babe   \n",
       "2170   ham  \\CAN I PLEASE COME UP NOW IMIN TOWN.DONTMATTER...   \n",
       "2235   ham  \\Si.como no?!listened2the plaid album-quite gd...   \n",
       "2255   ham      I just lov this line: \\Hurt me with the truth   \n",
       "2406   ham  One of best dialogue in cute reltnship..!! \\We...   \n",
       "2791   ham  Û_ we r stayin here an extra week, back next ...   \n",
       "2970   ham  Height of Confidence: All the Aeronautics prof...   \n",
       "3110   ham               Short But Cute : \\ Be a good person    \n",
       "3145   ham               \\SHIT BABE.. THASA BIT MESSED UP.YEH   \n",
       "3239   ham  A cute thought for friendship: \\Its not necess...   \n",
       "3506   ham               Two fundamentals of cool life: \\Walk   \n",
       "3525   ham  \\HEY BABE! FAR 2 SPUN-OUT 2 SPK AT DA MO... DE...   \n",
       "3547   ham  Single line with a big meaning::::: \\Miss anyt...   \n",
       "3640  spam  You can stop further club tones by replying \\S...   \n",
       "3758   ham  GOD ASKED, \\What is forgiveness?\\\" A little ch...   \n",
       "3788   ham              Are you sure you don't mean \\get here   \n",
       "3793   ham                  Short But Cute: \\Be a good person   \n",
       "3881   ham                  Short But Cute: \\Be a good person   \n",
       "4130   ham  \\Its Ur luck to Love someone. Its Ur fortune t...   \n",
       "4224   ham  \\The world suffers a lot... Not because of the...   \n",
       "4454   ham  Storming msg: Wen u lift d phne, u say \\HELLO\\...   \n",
       "4455   ham  If you want to mapquest it or something look u...   \n",
       "4570   ham                 \\CHA QUITEAMUZING THATåÕSCOOL BABE   \n",
       "4601   ham                     \\Hey j! r u feeling any better   \n",
       "4668   ham  When I was born, GOD said, \\Oh No! Another IDI...   \n",
       "4859   ham  \\Response\\\" is one of d powerful weapon 2 occu...   \n",
       "4992   ham                                          \\HEY KATE   \n",
       "5048   ham  Edison has rightly said, \\A fool can ask more ...   \n",
       "5079   ham                      \\Keep ur problems in ur heart   \n",
       "5081   ham  \\HI BABE UAWAKE?FEELLIKW SHIT.JUSTFOUND OUT VI...   \n",
       "5264   ham  Storming msg: Wen u lift d phne, u say \\HELLO\\...   \n",
       "5268   ham                                                \\ER   \n",
       "\n",
       "                                             Unnamed: 2  \\\n",
       "95                                          PO Box 5249   \n",
       "281    the person is definitely special for u..... B...   \n",
       "444    HOWU DOIN? FOUNDURSELF A JOBYET SAUSAGE?LOVE ...   \n",
       "671    wanted to say hi. HI!!!\\\" Stop? Send STOP to ...   \n",
       "710     this wont even start........ Datz confidence..\"   \n",
       "899                                         PO Box 5249   \n",
       "1038                                                 GN   \n",
       "1127                                           .;-):-D\"   \n",
       "1266  just been in bedbut mite go 2 thepub l8tr if u...   \n",
       "1384   bt not his girlfrnd... G o o d n i g h t . . .@\"   \n",
       "1428                                      I'll come up\"   \n",
       "1559   don't miss ur best life for anything... Gud n...   \n",
       "1637   just as a shop has to give a guarantee on wha...   \n",
       "1669   But at d end my love compromised me for every...   \n",
       "1675   the toughest is acting Happy with all unspoke...   \n",
       "1936                                smoke hella weed\\\"\"   \n",
       "1937                     \\\" not \\\"what i need to do.\\\"\"   \n",
       "1997  JUST GOT PAYED2DAY & I HAVBEEN GIVEN Aå£50 PAY...   \n",
       "2087   justthought iåÕd sayhey! how u doin?nearly th...   \n",
       "2170  JUST REALLYNEED 2DOCD.PLEASE DONTPLEASE DONTIG...   \n",
       "2235                       u hav2hear it!c u sn xxxx\\\"\"   \n",
       "2255                                       I don't mind   \n",
       "2406   Dont Come Near My Body..!! Bcoz My Hands May ...   \n",
       "2791  Well there's still a bit left if you guys want...   \n",
       "2970    this wont even start........ Datz confidence..\"   \n",
       "3110         but dont try to prove\\\" ..... Gud mrng...\"   \n",
       "3145            SHE SHUDVETOLD U. DID URGRAN KNOW?NEWAY   \n",
       "3239         but watever u shared should be true\\\"....\"   \n",
       "3506   like you are the KING\\\"...! OR \\\"Walk like yo...   \n",
       "3525                                   HAD A COOL NYTHO   \n",
       "3547   don't miss ur best life for anything... Gud n...   \n",
       "3640                        PO Box 1146 MK45 2WT (2/3)\"   \n",
       "3758   \\\"It is d wonderful fruit that a tree gives w...   \n",
       "3788                   we made you hold all the weed\\\"\"   \n",
       "3793        but dont try to prove it..\\\" .Gud noon....\"   \n",
       "3881        but dont try to prove it..\\\" .Gud noon....\"   \n",
       "4130   its a miracle to Love a person who can't Love...   \n",
       "4224                                     Gud night....\"   \n",
       "4454   bt not his girlfrnd... G o o d n i g h t . . .@\"   \n",
       "4455   that's the tiny street where the parking lot is\"   \n",
       "4570  PROBPOP IN & CU SATTHEN HUNNY 4BREKKIE! LOVE J...   \n",
       "4601   hopeSo hunny. i amnow feelin ill & ithink i m...   \n",
       "4668                                           GOD said   \n",
       "4859   always give response 2 who cares 4 U\\\"... Gud...   \n",
       "4992   HOPE UR OK... WILL GIVE U A BUZ WEDLUNCH. GO ...   \n",
       "5048                                                 GN   \n",
       "5079   b'coz nobody will fight for u. Only u &amp; u...   \n",
       "5081                                DEVIOUSBITCH.ANYWAY   \n",
       "5264   bt not his girlfrnd... G o o d n i g h t . . .@\"   \n",
       "5268   ENJOYIN INDIANS AT THE MO..yeP. SaLL gOoD Heh...   \n",
       "\n",
       "                                      Unnamed: 3  \\\n",
       "95                          MK17 92H. 450Ppw 16\"   \n",
       "281                             why to miss them   \n",
       "444                                          NaN   \n",
       "671                                          NaN   \n",
       "710                                          NaN   \n",
       "899                         MK17 92H. 450Ppw 16\"   \n",
       "1038                                          GE   \n",
       "1127                                         NaN   \n",
       "1266                                         NaN   \n",
       "1384                                         NaN   \n",
       "1428                                         NaN   \n",
       "1559                                         NaN   \n",
       "1637                                         NaN   \n",
       "1669                                         NaN   \n",
       "1675                                         NaN   \n",
       "1936                                         NaN   \n",
       "1937                                         NaN   \n",
       "1997                                         NaN   \n",
       "2087                                         NaN   \n",
       "2170    U NO THECD ISV.IMPORTANT TOME 4 2MORO\\\"\"   \n",
       "2235                                         NaN   \n",
       "2255    i wil tolerat.bcs ur my someone..... But   \n",
       "2406                                         NaN   \n",
       "2791                                         NaN   \n",
       "2970                                         NaN   \n",
       "3110                                         NaN   \n",
       "3145   ILLSPEAK 2 U2MORO WEN IM NOT ASLEEP...\\\"\"   \n",
       "3239                                         NaN   \n",
       "3506          whoever is the KING\\\"!... Gud nyt\"   \n",
       "3525                              TX 4 FONIN HON   \n",
       "3547                                         NaN   \n",
       "3640                                         NaN   \n",
       "3758                                         NaN   \n",
       "3788                                         NaN   \n",
       "3793                                         NaN   \n",
       "3881                                         NaN   \n",
       "4130                                         NaN   \n",
       "4224                                         NaN   \n",
       "4454                                         NaN   \n",
       "4455                                         NaN   \n",
       "4570                                         NaN   \n",
       "4601                                         NaN   \n",
       "4668            \\\"OH No! COMPETITION\\\". Who knew   \n",
       "4859                                         NaN   \n",
       "4992                                         NaN   \n",
       "5048                                          GE   \n",
       "5079                                         NaN   \n",
       "5081                              IåÕL CALL U\\\"\"   \n",
       "5264                                         NaN   \n",
       "5268                                         NaN   \n",
       "\n",
       "                                             Unnamed: 4  \n",
       "95                                                  NaN  \n",
       "281                       just Keep-in-touch\\\" gdeve..\"  \n",
       "444                                                 NaN  \n",
       "671                                                 NaN  \n",
       "710                                                 NaN  \n",
       "899                                                 NaN  \n",
       "1038                                            GNT:-)\"  \n",
       "1127                                                NaN  \n",
       "1266                                                NaN  \n",
       "1384                                                NaN  \n",
       "1428                                                NaN  \n",
       "1559                                                NaN  \n",
       "1637                                                NaN  \n",
       "1669                                                NaN  \n",
       "1675                                                NaN  \n",
       "1936                                                NaN  \n",
       "1937                                                NaN  \n",
       "1997                                                NaN  \n",
       "2087                                                NaN  \n",
       "2170                                                NaN  \n",
       "2235                                                NaN  \n",
       "2255   Never comfort me with a lie\\\" gud ni8 and swe...  \n",
       "2406                                                NaN  \n",
       "2791                                                NaN  \n",
       "2970                                                NaN  \n",
       "3110                                                NaN  \n",
       "3145                                                NaN  \n",
       "3239                                                NaN  \n",
       "3506                                                NaN  \n",
       "3525                CALL 2MWEN IM BK FRMCLOUD 9! J X\\\"\"  \n",
       "3547                                                NaN  \n",
       "3640                                                NaN  \n",
       "3758                                                NaN  \n",
       "3788                                                NaN  \n",
       "3793                                                NaN  \n",
       "3881                                                NaN  \n",
       "4130                                                NaN  \n",
       "4224                                                NaN  \n",
       "4454                                                NaN  \n",
       "4455                                                NaN  \n",
       "4570                                                NaN  \n",
       "4601                                                NaN  \n",
       "4668    one day these two will become FREINDS FOREVER!\"  \n",
       "4859                                                NaN  \n",
       "4992                                                NaN  \n",
       "5048                                            GNT:-)\"  \n",
       "5079                                                NaN  \n",
       "5081                                                NaN  \n",
       "5264                                                NaN  \n",
       "5268                                                NaN  "
      ]
     },
     "execution_count": 52,
     "metadata": {},
     "output_type": "execute_result"
    }
   ],
   "source": [
    "df[df['Unnamed: 2'].notnull()]"
   ]
  },
  {
   "cell_type": "code",
   "execution_count": 53,
   "id": "6bed22ae",
   "metadata": {},
   "outputs": [],
   "source": [
    "## we can drop unnamed columns"
   ]
  },
  {
   "cell_type": "code",
   "execution_count": 54,
   "id": "fa4407ff",
   "metadata": {},
   "outputs": [],
   "source": [
    "df.drop(columns=['Unnamed: 2','Unnamed: 3','Unnamed: 4'],inplace=True)"
   ]
  },
  {
   "cell_type": "code",
   "execution_count": 55,
   "id": "adc69eed",
   "metadata": {},
   "outputs": [],
   "source": [
    "df['v1'] = df['v1'].map({\"spam\":0,\"ham\":1})"
   ]
  },
  {
   "cell_type": "code",
   "execution_count": 56,
   "id": "a49bf226",
   "metadata": {},
   "outputs": [
    {
     "data": {
      "text/html": [
       "<div>\n",
       "<style scoped>\n",
       "    .dataframe tbody tr th:only-of-type {\n",
       "        vertical-align: middle;\n",
       "    }\n",
       "\n",
       "    .dataframe tbody tr th {\n",
       "        vertical-align: top;\n",
       "    }\n",
       "\n",
       "    .dataframe thead th {\n",
       "        text-align: right;\n",
       "    }\n",
       "</style>\n",
       "<table border=\"1\" class=\"dataframe\">\n",
       "  <thead>\n",
       "    <tr style=\"text-align: right;\">\n",
       "      <th></th>\n",
       "      <th>v1</th>\n",
       "      <th>v2</th>\n",
       "    </tr>\n",
       "  </thead>\n",
       "  <tbody>\n",
       "    <tr>\n",
       "      <th>0</th>\n",
       "      <td>1</td>\n",
       "      <td>Go until jurong point, crazy.. Available only ...</td>\n",
       "    </tr>\n",
       "    <tr>\n",
       "      <th>1</th>\n",
       "      <td>1</td>\n",
       "      <td>Ok lar... Joking wif u oni...</td>\n",
       "    </tr>\n",
       "    <tr>\n",
       "      <th>2</th>\n",
       "      <td>0</td>\n",
       "      <td>Free entry in 2 a wkly comp to win FA Cup fina...</td>\n",
       "    </tr>\n",
       "    <tr>\n",
       "      <th>3</th>\n",
       "      <td>1</td>\n",
       "      <td>U dun say so early hor... U c already then say...</td>\n",
       "    </tr>\n",
       "    <tr>\n",
       "      <th>4</th>\n",
       "      <td>1</td>\n",
       "      <td>Nah I don't think he goes to usf, he lives aro...</td>\n",
       "    </tr>\n",
       "  </tbody>\n",
       "</table>\n",
       "</div>"
      ],
      "text/plain": [
       "   v1                                                 v2\n",
       "0   1  Go until jurong point, crazy.. Available only ...\n",
       "1   1                      Ok lar... Joking wif u oni...\n",
       "2   0  Free entry in 2 a wkly comp to win FA Cup fina...\n",
       "3   1  U dun say so early hor... U c already then say...\n",
       "4   1  Nah I don't think he goes to usf, he lives aro..."
      ]
     },
     "execution_count": 56,
     "metadata": {},
     "output_type": "execute_result"
    }
   ],
   "source": [
    "df.head()"
   ]
  },
  {
   "cell_type": "code",
   "execution_count": 57,
   "id": "8f70b857",
   "metadata": {},
   "outputs": [],
   "source": [
    "duplicated = df.duplicated()"
   ]
  },
  {
   "cell_type": "code",
   "execution_count": 58,
   "id": "2c2ae666",
   "metadata": {},
   "outputs": [
    {
     "data": {
      "text/html": [
       "<div>\n",
       "<style scoped>\n",
       "    .dataframe tbody tr th:only-of-type {\n",
       "        vertical-align: middle;\n",
       "    }\n",
       "\n",
       "    .dataframe tbody tr th {\n",
       "        vertical-align: top;\n",
       "    }\n",
       "\n",
       "    .dataframe thead th {\n",
       "        text-align: right;\n",
       "    }\n",
       "</style>\n",
       "<table border=\"1\" class=\"dataframe\">\n",
       "  <thead>\n",
       "    <tr style=\"text-align: right;\">\n",
       "      <th></th>\n",
       "      <th>v1</th>\n",
       "      <th>v2</th>\n",
       "    </tr>\n",
       "  </thead>\n",
       "  <tbody>\n",
       "    <tr>\n",
       "      <th>102</th>\n",
       "      <td>1</td>\n",
       "      <td>As per your request 'Melle Melle (Oru Minnamin...</td>\n",
       "    </tr>\n",
       "    <tr>\n",
       "      <th>153</th>\n",
       "      <td>1</td>\n",
       "      <td>As per your request 'Melle Melle (Oru Minnamin...</td>\n",
       "    </tr>\n",
       "    <tr>\n",
       "      <th>206</th>\n",
       "      <td>1</td>\n",
       "      <td>As I entered my cabin my PA said, '' Happy B'd...</td>\n",
       "    </tr>\n",
       "    <tr>\n",
       "      <th>222</th>\n",
       "      <td>1</td>\n",
       "      <td>Sorry, I'll call later</td>\n",
       "    </tr>\n",
       "    <tr>\n",
       "      <th>325</th>\n",
       "      <td>1</td>\n",
       "      <td>No calls..messages..missed calls</td>\n",
       "    </tr>\n",
       "    <tr>\n",
       "      <th>...</th>\n",
       "      <td>...</td>\n",
       "      <td>...</td>\n",
       "    </tr>\n",
       "    <tr>\n",
       "      <th>5524</th>\n",
       "      <td>0</td>\n",
       "      <td>You are awarded a SiPix Digital Camera! call 0...</td>\n",
       "    </tr>\n",
       "    <tr>\n",
       "      <th>5535</th>\n",
       "      <td>1</td>\n",
       "      <td>I know you are thinkin malaria. But relax, chi...</td>\n",
       "    </tr>\n",
       "    <tr>\n",
       "      <th>5539</th>\n",
       "      <td>1</td>\n",
       "      <td>Just sleeping..and surfing</td>\n",
       "    </tr>\n",
       "    <tr>\n",
       "      <th>5553</th>\n",
       "      <td>1</td>\n",
       "      <td>Hahaha..use your brain dear</td>\n",
       "    </tr>\n",
       "    <tr>\n",
       "      <th>5558</th>\n",
       "      <td>1</td>\n",
       "      <td>Sorry, I'll call later</td>\n",
       "    </tr>\n",
       "  </tbody>\n",
       "</table>\n",
       "<p>403 rows × 2 columns</p>\n",
       "</div>"
      ],
      "text/plain": [
       "      v1                                                 v2\n",
       "102    1  As per your request 'Melle Melle (Oru Minnamin...\n",
       "153    1  As per your request 'Melle Melle (Oru Minnamin...\n",
       "206    1  As I entered my cabin my PA said, '' Happy B'd...\n",
       "222    1                             Sorry, I'll call later\n",
       "325    1                   No calls..messages..missed calls\n",
       "...   ..                                                ...\n",
       "5524   0  You are awarded a SiPix Digital Camera! call 0...\n",
       "5535   1  I know you are thinkin malaria. But relax, chi...\n",
       "5539   1                         Just sleeping..and surfing\n",
       "5553   1                        Hahaha..use your brain dear\n",
       "5558   1                             Sorry, I'll call later\n",
       "\n",
       "[403 rows x 2 columns]"
      ]
     },
     "execution_count": 58,
     "metadata": {},
     "output_type": "execute_result"
    }
   ],
   "source": [
    "df[duplicated]"
   ]
  },
  {
   "cell_type": "markdown",
   "id": "a66b5dde",
   "metadata": {},
   "source": [
    "##### so there are few message which occurred more than one time so we can just keep one of them"
   ]
  },
  {
   "cell_type": "code",
   "execution_count": 59,
   "id": "98daff51",
   "metadata": {},
   "outputs": [],
   "source": [
    "df = df.drop_duplicates(keep=\"first\")"
   ]
  },
  {
   "cell_type": "code",
   "execution_count": 60,
   "id": "d9bebd2b",
   "metadata": {},
   "outputs": [
    {
     "data": {
      "text/plain": [
       "(5169, 2)"
      ]
     },
     "execution_count": 60,
     "metadata": {},
     "output_type": "execute_result"
    }
   ],
   "source": [
    "df.shape"
   ]
  },
  {
   "cell_type": "code",
   "execution_count": 61,
   "id": "6f9392dc",
   "metadata": {},
   "outputs": [],
   "source": [
    "## so now we are left out with 5169 messages"
   ]
  },
  {
   "cell_type": "markdown",
   "id": "1de6fbb0",
   "metadata": {},
   "source": [
    "### EDA"
   ]
  },
  {
   "cell_type": "code",
   "execution_count": 62,
   "id": "b3cad48e",
   "metadata": {},
   "outputs": [],
   "source": [
    "import sweetviz"
   ]
  },
  {
   "cell_type": "code",
   "execution_count": 63,
   "id": "93a550b0",
   "metadata": {},
   "outputs": [],
   "source": [
    "import matplotlib.pyplot as plt\n",
    "import seaborn as sns"
   ]
  },
  {
   "cell_type": "code",
   "execution_count": 64,
   "id": "54a39d64",
   "metadata": {},
   "outputs": [
    {
     "data": {
      "text/plain": [
       "<AxesSubplot:xlabel='v1', ylabel='count'>"
      ]
     },
     "execution_count": 64,
     "metadata": {},
     "output_type": "execute_result"
    },
    {
     "data": {
      "image/png": "[encoded data removed]",
      "text/plain": [
       "<Figure size 600x400 with 1 Axes>"
      ]
     },
     "metadata": {},
     "output_type": "display_data"
    }
   ],
   "source": [
    "sns.countplot(x=df['v1'],data = df)"
   ]
  },
  {
   "cell_type": "code",
   "execution_count": 65,
   "id": "265a7c39",
   "metadata": {},
   "outputs": [
    {
     "data": {
      "text/plain": [
       "1    4516\n",
       "0     653\n",
       "Name: v1, dtype: int64"
      ]
     },
     "execution_count": 65,
     "metadata": {},
     "output_type": "execute_result"
    }
   ],
   "source": [
    "df['v1'].value_counts()"
   ]
  },
  {
   "cell_type": "markdown",
   "id": "a4e5c3d7",
   "metadata": {},
   "source": [
    "##### Observation"
   ]
  },
  {
   "cell_type": "markdown",
   "id": "441fa238",
   "metadata": {},
   "source": [
    "Number of Ham messages are approximately 7 times more than number of spam messages"
   ]
  },
  {
   "cell_type": "code",
   "execution_count": 66,
   "id": "5ab12736",
   "metadata": {},
   "outputs": [
    {
     "name": "stderr",
     "output_type": "stream",
     "text": [
      "[nltk_data] Downloading package punkt to\n",
      "[nltk_data]     C:\\Users\\shray\\AppData\\Roaming\\nltk_data...\n",
      "[nltk_data]   Package punkt is already up-to-date!\n"
     ]
    },
    {
     "data": {
      "text/plain": [
       "True"
      ]
     },
     "execution_count": 66,
     "metadata": {},
     "output_type": "execute_result"
    }
   ],
   "source": [
    "import nltk \n",
    "nltk.download('punkt')"
   ]
  },
  {
   "cell_type": "markdown",
   "id": "e08987a3",
   "metadata": {},
   "source": [
    "#### Report"
   ]
  },
  {
   "cell_type": "code",
   "execution_count": 23,
   "id": "5f90288c",
   "metadata": {},
   "outputs": [
    {
     "data": {
      "application/vnd.jupyter.widget-view+json": {
       "model_id": "d0b4ac9439b145bcbc04ef06eb24ae73",
       "version_major": 2,
       "version_minor": 0
      },
      "text/plain": [
       "                                             |                                             | [  0%]   00:00 ->…"
      ]
     },
     "metadata": {},
     "output_type": "display_data"
    }
   ],
   "source": [
    "my_report = sweetviz.analyze([df,\"Data\"],target_feat=\"v1\")"
   ]
  },
  {
   "cell_type": "code",
   "execution_count": 24,
   "id": "a6d581ee",
   "metadata": {},
   "outputs": [
    {
     "name": "stdout",
     "output_type": "stream",
     "text": [
      "Report Report.html was generated! NOTEBOOK/COLAB USERS: the web browser MAY not pop up, regardless, the report IS saved in your notebook/colab files.\n"
     ]
    }
   ],
   "source": [
    "my_report.show_html('Report.html')"
   ]
  },
  {
   "cell_type": "markdown",
   "id": "b36caac2",
   "metadata": {},
   "source": [
    "##### Observation"
   ]
  },
  {
   "cell_type": "markdown",
   "id": "bbac89cd",
   "metadata": {},
   "source": [
    "features like num_words and num_chars are highly correlated with each other"
   ]
  },
  {
   "cell_type": "code",
   "execution_count": 67,
   "id": "71ba3af5",
   "metadata": {},
   "outputs": [
    {
     "data": {
      "text/html": [
       "<div>\n",
       "<style scoped>\n",
       "    .dataframe tbody tr th:only-of-type {\n",
       "        vertical-align: middle;\n",
       "    }\n",
       "\n",
       "    .dataframe tbody tr th {\n",
       "        vertical-align: top;\n",
       "    }\n",
       "\n",
       "    .dataframe thead th {\n",
       "        text-align: right;\n",
       "    }\n",
       "</style>\n",
       "<table border=\"1\" class=\"dataframe\">\n",
       "  <thead>\n",
       "    <tr style=\"text-align: right;\">\n",
       "      <th></th>\n",
       "      <th>v1</th>\n",
       "      <th>v2</th>\n",
       "    </tr>\n",
       "  </thead>\n",
       "  <tbody>\n",
       "    <tr>\n",
       "      <th>0</th>\n",
       "      <td>1</td>\n",
       "      <td>Go until jurong point, crazy.. Available only ...</td>\n",
       "    </tr>\n",
       "    <tr>\n",
       "      <th>1</th>\n",
       "      <td>1</td>\n",
       "      <td>Ok lar... Joking wif u oni...</td>\n",
       "    </tr>\n",
       "    <tr>\n",
       "      <th>2</th>\n",
       "      <td>0</td>\n",
       "      <td>Free entry in 2 a wkly comp to win FA Cup fina...</td>\n",
       "    </tr>\n",
       "    <tr>\n",
       "      <th>3</th>\n",
       "      <td>1</td>\n",
       "      <td>U dun say so early hor... U c already then say...</td>\n",
       "    </tr>\n",
       "    <tr>\n",
       "      <th>4</th>\n",
       "      <td>1</td>\n",
       "      <td>Nah I don't think he goes to usf, he lives aro...</td>\n",
       "    </tr>\n",
       "  </tbody>\n",
       "</table>\n",
       "</div>"
      ],
      "text/plain": [
       "   v1                                                 v2\n",
       "0   1  Go until jurong point, crazy.. Available only ...\n",
       "1   1                      Ok lar... Joking wif u oni...\n",
       "2   0  Free entry in 2 a wkly comp to win FA Cup fina...\n",
       "3   1  U dun say so early hor... U c already then say...\n",
       "4   1  Nah I don't think he goes to usf, he lives aro..."
      ]
     },
     "execution_count": 67,
     "metadata": {},
     "output_type": "execute_result"
    }
   ],
   "source": [
    "df.head()"
   ]
  },
  {
   "cell_type": "code",
   "execution_count": 68,
   "id": "3e250393",
   "metadata": {},
   "outputs": [
    {
     "name": "stderr",
     "output_type": "stream",
     "text": [
      "[nltk_data] Downloading package stopwords to\n",
      "[nltk_data]     C:\\Users\\shray\\AppData\\Roaming\\nltk_data...\n",
      "[nltk_data]   Package stopwords is already up-to-date!\n"
     ]
    },
    {
     "data": {
      "text/plain": [
       "True"
      ]
     },
     "execution_count": 68,
     "metadata": {},
     "output_type": "execute_result"
    }
   ],
   "source": [
    "from nltk.stem import PorterStemmer\n",
    "from nltk.corpus import stopwords\n",
    "ps = PorterStemmer()\n",
    "nltk.download('stopwords')"
   ]
  },
  {
   "cell_type": "code",
   "execution_count": 69,
   "id": "b201a173",
   "metadata": {},
   "outputs": [
    {
     "data": {
      "text/plain": [
       "v1     int64\n",
       "v2    object\n",
       "dtype: object"
      ]
     },
     "execution_count": 69,
     "metadata": {},
     "output_type": "execute_result"
    }
   ],
   "source": [
    "df.dtypes"
   ]
  },
  {
   "cell_type": "code",
   "execution_count": 70,
   "id": "52ff1a49",
   "metadata": {},
   "outputs": [],
   "source": [
    "import re\n",
    "def transform(text):\n",
    "    text = text.lower()\n",
    "    text = nltk.word_tokenize(text)\n",
    "    words = []\n",
    "    for i in text:\n",
    "        if i.isalnum():\n",
    "            words.append(i)\n",
    "    y = []\n",
    "    for i in words:\n",
    "        if i not in stopwords.words('english'):\n",
    "            y.append(i)\n",
    "    final_text = []\n",
    "    for i in y:\n",
    "        final_text.append(ps.stem(i))\n",
    "    return \" \".join(final_text)    "
   ]
  },
  {
   "cell_type": "code",
   "execution_count": 71,
   "id": "6fc24de7",
   "metadata": {},
   "outputs": [],
   "source": [
    "df['transformed'] = df['v2'].apply(transform)"
   ]
  },
  {
   "cell_type": "code",
   "execution_count": 72,
   "id": "e6e76880",
   "metadata": {},
   "outputs": [
    {
     "data": {
      "text/html": [
       "<div>\n",
       "<style scoped>\n",
       "    .dataframe tbody tr th:only-of-type {\n",
       "        vertical-align: middle;\n",
       "    }\n",
       "\n",
       "    .dataframe tbody tr th {\n",
       "        vertical-align: top;\n",
       "    }\n",
       "\n",
       "    .dataframe thead th {\n",
       "        text-align: right;\n",
       "    }\n",
       "</style>\n",
       "<table border=\"1\" class=\"dataframe\">\n",
       "  <thead>\n",
       "    <tr style=\"text-align: right;\">\n",
       "      <th></th>\n",
       "      <th>v1</th>\n",
       "      <th>v2</th>\n",
       "      <th>transformed</th>\n",
       "    </tr>\n",
       "  </thead>\n",
       "  <tbody>\n",
       "    <tr>\n",
       "      <th>0</th>\n",
       "      <td>1</td>\n",
       "      <td>Go until jurong point, crazy.. Available only ...</td>\n",
       "      <td>go jurong point crazi avail bugi n great world...</td>\n",
       "    </tr>\n",
       "    <tr>\n",
       "      <th>1</th>\n",
       "      <td>1</td>\n",
       "      <td>Ok lar... Joking wif u oni...</td>\n",
       "      <td>ok lar joke wif u oni</td>\n",
       "    </tr>\n",
       "    <tr>\n",
       "      <th>2</th>\n",
       "      <td>0</td>\n",
       "      <td>Free entry in 2 a wkly comp to win FA Cup fina...</td>\n",
       "      <td>free entri 2 wkli comp win fa cup final tkt 21...</td>\n",
       "    </tr>\n",
       "    <tr>\n",
       "      <th>3</th>\n",
       "      <td>1</td>\n",
       "      <td>U dun say so early hor... U c already then say...</td>\n",
       "      <td>u dun say earli hor u c alreadi say</td>\n",
       "    </tr>\n",
       "    <tr>\n",
       "      <th>4</th>\n",
       "      <td>1</td>\n",
       "      <td>Nah I don't think he goes to usf, he lives aro...</td>\n",
       "      <td>nah think goe usf live around though</td>\n",
       "    </tr>\n",
       "  </tbody>\n",
       "</table>\n",
       "</div>"
      ],
      "text/plain": [
       "   v1                                                 v2  \\\n",
       "0   1  Go until jurong point, crazy.. Available only ...   \n",
       "1   1                      Ok lar... Joking wif u oni...   \n",
       "2   0  Free entry in 2 a wkly comp to win FA Cup fina...   \n",
       "3   1  U dun say so early hor... U c already then say...   \n",
       "4   1  Nah I don't think he goes to usf, he lives aro...   \n",
       "\n",
       "                                         transformed  \n",
       "0  go jurong point crazi avail bugi n great world...  \n",
       "1                              ok lar joke wif u oni  \n",
       "2  free entri 2 wkli comp win fa cup final tkt 21...  \n",
       "3                u dun say earli hor u c alreadi say  \n",
       "4               nah think goe usf live around though  "
      ]
     },
     "execution_count": 72,
     "metadata": {},
     "output_type": "execute_result"
    }
   ],
   "source": [
    "df.head()"
   ]
  },
  {
   "cell_type": "code",
   "execution_count": 73,
   "id": "53a5b7fb",
   "metadata": {},
   "outputs": [],
   "source": [
    "df.drop(['v2'],inplace = True,axis = 1)"
   ]
  },
  {
   "cell_type": "markdown",
   "id": "15d353cc",
   "metadata": {},
   "source": [
    "### Model"
   ]
  },
  {
   "cell_type": "markdown",
   "id": "730df440",
   "metadata": {},
   "source": [
    "#### TF-Idf Vectorization"
   ]
  },
  {
   "cell_type": "code",
   "execution_count": 74,
   "id": "a1a38d6a",
   "metadata": {},
   "outputs": [],
   "source": [
    "from sklearn.feature_extraction.text import TfidfVectorizer\n",
    "tfidf = TfidfVectorizer(max_features=3500)"
   ]
  },
  {
   "cell_type": "code",
   "execution_count": 76,
   "id": "fb097365",
   "metadata": {},
   "outputs": [],
   "source": [
    "X = tfidf.fit_transform(df['transformed']).toarray()"
   ]
  },
  {
   "cell_type": "code",
   "execution_count": 77,
   "id": "3ad39e3b",
   "metadata": {},
   "outputs": [
    {
     "data": {
      "text/plain": [
       "(5169, 3500)"
      ]
     },
     "execution_count": 77,
     "metadata": {},
     "output_type": "execute_result"
    }
   ],
   "source": [
    "X.shape"
   ]
  },
  {
   "cell_type": "code",
   "execution_count": 35,
   "id": "50c7b4a9",
   "metadata": {},
   "outputs": [],
   "source": [
    "y = df['v1']"
   ]
  },
  {
   "cell_type": "code",
   "execution_count": 36,
   "id": "6ccf6ab7",
   "metadata": {},
   "outputs": [],
   "source": [
    "from sklearn.metrics import accuracy_score,confusion_matrix"
   ]
  },
  {
   "cell_type": "code",
   "execution_count": 37,
   "id": "797b9feb",
   "metadata": {},
   "outputs": [],
   "source": [
    "from sklearn.model_selection import cross_val_score\n",
    "from sklearn.model_selection import RandomizedSearchCV"
   ]
  },
  {
   "cell_type": "markdown",
   "id": "81f174e1",
   "metadata": {},
   "source": [
    "Classifiers:- \n",
    "\n",
    "SVC , AdaBoost , Decision Tree , Random Forest , XG Boost , Gradient Boosting , LogisticRegression , GaussianNB"
   ]
  },
  {
   "cell_type": "code",
   "execution_count": 38,
   "id": "f079a405",
   "metadata": {},
   "outputs": [],
   "source": [
    "from sklearn.linear_model import LogisticRegression\n",
    "from sklearn.svm import SVC\n",
    "from sklearn.tree import DecisionTreeClassifier\n",
    "from sklearn.neighbors import KNeighborsClassifier\n",
    "from sklearn.ensemble import RandomForestClassifier\n",
    "from sklearn.ensemble import AdaBoostClassifier\n",
    "from sklearn.ensemble import GradientBoostingClassifier\n",
    "from xgboost import XGBClassifier\n",
    "from sklearn.naive_bayes import GaussianNB"
   ]
  },
  {
   "cell_type": "code",
   "execution_count": 39,
   "id": "ca3515bc",
   "metadata": {},
   "outputs": [],
   "source": [
    "import scipy.stats as stat"
   ]
  },
  {
   "cell_type": "code",
   "execution_count": 40,
   "id": "2f674d48",
   "metadata": {},
   "outputs": [],
   "source": [
    "results = {}"
   ]
  },
  {
   "cell_type": "markdown",
   "id": "0f53429e",
   "metadata": {},
   "source": [
    "#### Gaussian NB"
   ]
  },
  {
   "cell_type": "code",
   "execution_count": 41,
   "id": "8e95429e",
   "metadata": {},
   "outputs": [],
   "source": [
    "gb = GaussianNB()\n",
    "params = {'var_smoothing': np.logspace(0,-9, num=100)}"
   ]
  },
  {
   "cell_type": "code",
   "execution_count": 42,
   "id": "4fa05785",
   "metadata": {},
   "outputs": [
    {
     "name": "stdout",
     "output_type": "stream",
     "text": [
      "Fitting 5 folds for each of 5 candidates, totalling 25 fits\n"
     ]
    },
    {
     "data": {
      "text/plain": [
       "RandomizedSearchCV(cv=5, estimator=GaussianNB(), n_iter=5, n_jobs=-1,\n",
       "                   param_distributions={'var_smoothing': array([1.00000000e+00, 8.11130831e-01, 6.57933225e-01, 5.33669923e-01,\n",
       "       4.32876128e-01, 3.51119173e-01, 2.84803587e-01, 2.31012970e-01,\n",
       "       1.87381742e-01, 1.51991108e-01, 1.23284674e-01, 1.00000000e-01,\n",
       "       8.11130831e-02, 6.57933225e-02, 5.33669923e-02, 4.32876128e-02,...\n",
       "       1.23284674e-07, 1.00000000e-07, 8.11130831e-08, 6.57933225e-08,\n",
       "       5.33669923e-08, 4.32876128e-08, 3.51119173e-08, 2.84803587e-08,\n",
       "       2.31012970e-08, 1.87381742e-08, 1.51991108e-08, 1.23284674e-08,\n",
       "       1.00000000e-08, 8.11130831e-09, 6.57933225e-09, 5.33669923e-09,\n",
       "       4.32876128e-09, 3.51119173e-09, 2.84803587e-09, 2.31012970e-09,\n",
       "       1.87381742e-09, 1.51991108e-09, 1.23284674e-09, 1.00000000e-09])},\n",
       "                   scoring='accuracy', verbose=3)"
      ]
     },
     "execution_count": 42,
     "metadata": {},
     "output_type": "execute_result"
    }
   ],
   "source": [
    "random_search1 = RandomizedSearchCV(gb,param_distributions=params,n_iter = 5,scoring = 'accuracy',n_jobs = -1,cv = 5,verbose = 3)\n",
    "random_search1.fit(X,y)"
   ]
  },
  {
   "cell_type": "code",
   "execution_count": 43,
   "id": "6df8650a",
   "metadata": {},
   "outputs": [
    {
     "data": {
      "text/plain": [
       "{'var_smoothing': 0.006579332246575682}"
      ]
     },
     "execution_count": 43,
     "metadata": {},
     "output_type": "execute_result"
    }
   ],
   "source": [
    "random_search1.best_params_"
   ]
  },
  {
   "cell_type": "code",
   "execution_count": 44,
   "id": "b5a5aaba",
   "metadata": {},
   "outputs": [],
   "source": [
    "model1 = random_search1.best_estimator_"
   ]
  },
  {
   "cell_type": "code",
   "execution_count": 45,
   "id": "f3542c32",
   "metadata": {},
   "outputs": [],
   "source": [
    "score = cross_val_score(model1,X,y,cv = 10)"
   ]
  },
  {
   "cell_type": "code",
   "execution_count": 46,
   "id": "fb326647",
   "metadata": {},
   "outputs": [
    {
     "name": "stdout",
     "output_type": "stream",
     "text": [
      "0.9154566446253731\n"
     ]
    }
   ],
   "source": [
    "mean = score.mean()\n",
    "print(mean)\n",
    "results['GaussianNB'] = mean"
   ]
  },
  {
   "cell_type": "markdown",
   "id": "033afdb3",
   "metadata": {},
   "source": [
    "#### SVC"
   ]
  },
  {
   "cell_type": "code",
   "execution_count": 47,
   "id": "28d25f79",
   "metadata": {},
   "outputs": [
    {
     "name": "stdout",
     "output_type": "stream",
     "text": [
      "Fitting 5 folds for each of 5 candidates, totalling 25 fits\n"
     ]
    },
    {
     "data": {
      "text/plain": [
       "RandomizedSearchCV(cv=5, estimator=SVC(probability=True), n_iter=5, n_jobs=-1,\n",
       "                   param_distributions={'C': <scipy.stats._distn_infrastructure.rv_frozen object at 0x000002684E8AEE48>,\n",
       "                                        'gamma': <scipy.stats._distn_infrastructure.rv_frozen object at 0x000002684D9AB508>,\n",
       "                                        'kernel': ['poly', 'rbf', 'sigmoid']},\n",
       "                   scoring='accuracy', verbose=3)"
      ]
     },
     "execution_count": 47,
     "metadata": {},
     "output_type": "execute_result"
    }
   ],
   "source": [
    "svc = SVC(probability = True)\n",
    "params = {\"C\": stat.uniform(2, 10),\n",
    "             \"gamma\": stat.uniform(0.1, 1),\n",
    "          \"kernel\":['poly','rbf','sigmoid']\n",
    "         }\n",
    "random_search2 = RandomizedSearchCV(svc,param_distributions=params,n_iter = 5,scoring = 'accuracy',n_jobs = -1,cv = 5,verbose = 3)\n",
    "random_search2.fit(X,y)"
   ]
  },
  {
   "cell_type": "code",
   "execution_count": 48,
   "id": "9d37f3f7",
   "metadata": {},
   "outputs": [
    {
     "data": {
      "text/plain": [
       "{'C': 10.272059474246117, 'gamma': 0.45731960824012574, 'kernel': 'rbf'}"
      ]
     },
     "execution_count": 48,
     "metadata": {},
     "output_type": "execute_result"
    }
   ],
   "source": [
    "random_search2.best_params_"
   ]
  },
  {
   "cell_type": "code",
   "execution_count": 49,
   "id": "7db90fd4",
   "metadata": {},
   "outputs": [],
   "source": [
    "model2 = random_search2.best_estimator_"
   ]
  },
  {
   "cell_type": "code",
   "execution_count": 50,
   "id": "270e215b",
   "metadata": {},
   "outputs": [],
   "source": [
    "score = cross_val_score(model2,X,y,cv = 10)"
   ]
  },
  {
   "cell_type": "code",
   "execution_count": 51,
   "id": "01a03cc5",
   "metadata": {},
   "outputs": [
    {
     "name": "stdout",
     "output_type": "stream",
     "text": [
      "0.982975349736854\n"
     ]
    }
   ],
   "source": [
    "mean = score.mean()\n",
    "print(mean)"
   ]
  },
  {
   "cell_type": "code",
   "execution_count": 52,
   "id": "3dbb6d20",
   "metadata": {},
   "outputs": [],
   "source": [
    "results['SVC'] = mean"
   ]
  },
  {
   "cell_type": "markdown",
   "id": "187e2d1b",
   "metadata": {},
   "source": [
    "#### AdaBoost Classifier"
   ]
  },
  {
   "cell_type": "code",
   "execution_count": 53,
   "id": "68f71efc",
   "metadata": {},
   "outputs": [
    {
     "name": "stdout",
     "output_type": "stream",
     "text": [
      "Fitting 5 folds for each of 5 candidates, totalling 25 fits\n"
     ]
    },
    {
     "data": {
      "text/plain": [
       "RandomizedSearchCV(cv=5, estimator=AdaBoostClassifier(), n_iter=5, n_jobs=-1,\n",
       "                   param_distributions={'learning_rate': [1e-05, 0.0001, 0.001,\n",
       "                                                          0.01, 0.1, 1.0],\n",
       "                                        'n_estimators': [5, 10, 15, 20, 30, 40,\n",
       "                                                         50, 70, 90, 100, 200,\n",
       "                                                         400, 500]},\n",
       "                   scoring='accuracy', verbose=3)"
      ]
     },
     "execution_count": 53,
     "metadata": {},
     "output_type": "execute_result"
    }
   ],
   "source": [
    "abc = AdaBoostClassifier()\n",
    "params = {\n",
    "    'n_estimators' : [5,10,15,20,30,40,50,70,90,100,200,400,500],\n",
    "    'learning_rate':[1e-5,0.0001,0.001,0.01,0.1,1.0]\n",
    "}\n",
    "random_search3 = RandomizedSearchCV(abc,param_distributions=params,n_iter = 5,scoring = 'accuracy',n_jobs = -1,cv = 5,verbose = 3)\n",
    "random_search3.fit(X,y)"
   ]
  },
  {
   "cell_type": "code",
   "execution_count": 54,
   "id": "7e60c4ce",
   "metadata": {},
   "outputs": [
    {
     "data": {
      "text/plain": [
       "{'n_estimators': 200, 'learning_rate': 0.0001}"
      ]
     },
     "execution_count": 54,
     "metadata": {},
     "output_type": "execute_result"
    }
   ],
   "source": [
    "random_search3.best_params_"
   ]
  },
  {
   "cell_type": "code",
   "execution_count": 55,
   "id": "509e71f8",
   "metadata": {},
   "outputs": [],
   "source": [
    "model3 = random_search3.best_estimator_"
   ]
  },
  {
   "cell_type": "code",
   "execution_count": 56,
   "id": "23fedcf3",
   "metadata": {},
   "outputs": [],
   "source": [
    "score = cross_val_score(model3,X,y,cv = 10)"
   ]
  },
  {
   "cell_type": "code",
   "execution_count": 57,
   "id": "2d8486b4",
   "metadata": {},
   "outputs": [
    {
     "name": "stdout",
     "output_type": "stream",
     "text": [
      "0.8887630635898821\n"
     ]
    }
   ],
   "source": [
    "mean = score.mean()\n",
    "print(mean)\n",
    "results['AdaBoost Classifier'] = mean"
   ]
  },
  {
   "cell_type": "markdown",
   "id": "75d895f0",
   "metadata": {},
   "source": [
    "#### Decision Tree Classifier"
   ]
  },
  {
   "cell_type": "code",
   "execution_count": 58,
   "id": "1b91af47",
   "metadata": {},
   "outputs": [
    {
     "name": "stdout",
     "output_type": "stream",
     "text": [
      "Fitting 5 folds for each of 5 candidates, totalling 25 fits\n"
     ]
    },
    {
     "data": {
      "text/plain": [
       "RandomizedSearchCV(cv=5, estimator=DecisionTreeClassifier(), n_iter=5,\n",
       "                   n_jobs=-1,\n",
       "                   param_distributions={'max_leaf_nodes': [2, 3, 4, 5, 6, 7, 8,\n",
       "                                                           9, 10, 11, 12, 13,\n",
       "                                                           14, 15, 16, 17, 18,\n",
       "                                                           19, 20, 21, 22, 23,\n",
       "                                                           24, 25, 26, 27, 28,\n",
       "                                                           29, 30, 31, ...],\n",
       "                                        'min_samples_split': [1, 2, 3, 4, 5,\n",
       "                                                              6]},\n",
       "                   scoring='accuracy', verbose=3)"
      ]
     },
     "execution_count": 58,
     "metadata": {},
     "output_type": "execute_result"
    }
   ],
   "source": [
    "dt = DecisionTreeClassifier()\n",
    "params = {'max_leaf_nodes': list(range(2, 100)), 'min_samples_split': [1,2, 3, 4,5,6]}\n",
    "random_search4 = RandomizedSearchCV(dt,param_distributions=params,n_iter = 5,scoring = 'accuracy',n_jobs = -1,cv = 5,verbose = 3)\n",
    "random_search4.fit(X,y)"
   ]
  },
  {
   "cell_type": "code",
   "execution_count": 59,
   "id": "b1559700",
   "metadata": {},
   "outputs": [
    {
     "data": {
      "text/plain": [
       "{'min_samples_split': 2, 'max_leaf_nodes': 69}"
      ]
     },
     "execution_count": 59,
     "metadata": {},
     "output_type": "execute_result"
    }
   ],
   "source": [
    "random_search4.best_params_"
   ]
  },
  {
   "cell_type": "code",
   "execution_count": 60,
   "id": "e2bb6492",
   "metadata": {},
   "outputs": [],
   "source": [
    "model4 = random_search4.best_estimator_"
   ]
  },
  {
   "cell_type": "code",
   "execution_count": 61,
   "id": "aafca564",
   "metadata": {},
   "outputs": [],
   "source": [
    "score = cross_val_score(model4,X,y,cv = 10)"
   ]
  },
  {
   "cell_type": "code",
   "execution_count": 62,
   "id": "54fb83bc",
   "metadata": {},
   "outputs": [
    {
     "name": "stdout",
     "output_type": "stream",
     "text": [
      "0.95279452116414\n"
     ]
    }
   ],
   "source": [
    "mean = score.mean()\n",
    "print(mean)\n",
    "results['DecisionTree Classifier'] = mean"
   ]
  },
  {
   "cell_type": "markdown",
   "id": "8ea62f3d",
   "metadata": {},
   "source": [
    "#### Random Forest"
   ]
  },
  {
   "cell_type": "code",
   "execution_count": 63,
   "id": "af8abdd7",
   "metadata": {},
   "outputs": [
    {
     "name": "stdout",
     "output_type": "stream",
     "text": [
      "Fitting 5 folds for each of 5 candidates, totalling 25 fits\n"
     ]
    },
    {
     "data": {
      "text/plain": [
       "RandomizedSearchCV(cv=5, estimator=RandomForestClassifier(random_state=42),\n",
       "                   n_iter=5, n_jobs=-1,\n",
       "                   param_distributions={'bootstrap': [True, False],\n",
       "                                        'max_depth': [10, 20, 30, 40, 50, 60,\n",
       "                                                      70, 80, 90, 100, None],\n",
       "                                        'max_features': ['auto', 'sqrt'],\n",
       "                                        'min_samples_leaf': [1, 2, 4, 6, 8, 10],\n",
       "                                        'min_samples_split': [2, 5, 7, 9, 10],\n",
       "                                        'n_estimators': [1, 3, 5, 7, 9, 11, 13,\n",
       "                                                         15, 17, 19, 21, 23, 25,\n",
       "                                                         27, 29, 31, 33, 35, 37,\n",
       "                                                         39, 41, 43, 45, 47, 49,\n",
       "                                                         51, 53, 55, 57, 59, ...]},\n",
       "                   scoring='accuracy', verbose=3)"
      ]
     },
     "execution_count": 63,
     "metadata": {},
     "output_type": "execute_result"
    }
   ],
   "source": [
    "rf = RandomForestClassifier(random_state = 42)\n",
    "params = {\n",
    "    'bootstrap': [True, False],\n",
    " 'max_depth': [10, 20, 30, 40, 50, 60, 70, 80, 90, 100, None],\n",
    " 'max_features': ['auto', 'sqrt'],\n",
    " 'min_samples_leaf': [1, 2, 4,6,8,10],\n",
    " 'min_samples_split': [2, 5,7,9, 10],\n",
    " 'n_estimators': [int(x) for x in np.linspace(start = 1, stop = 100, num = 50)]}\n",
    "random_search5 = RandomizedSearchCV(rf,param_distributions=params,n_iter = 5,scoring = 'accuracy',n_jobs = -1,cv = 5,verbose = 3)\n",
    "random_search5.fit(X,y)"
   ]
  },
  {
   "cell_type": "code",
   "execution_count": 64,
   "id": "f885952c",
   "metadata": {},
   "outputs": [
    {
     "data": {
      "text/plain": [
       "{'n_estimators': 41,\n",
       " 'min_samples_split': 9,\n",
       " 'min_samples_leaf': 8,\n",
       " 'max_features': 'sqrt',\n",
       " 'max_depth': 50,\n",
       " 'bootstrap': False}"
      ]
     },
     "execution_count": 64,
     "metadata": {},
     "output_type": "execute_result"
    }
   ],
   "source": [
    "random_search5.best_params_"
   ]
  },
  {
   "cell_type": "code",
   "execution_count": 65,
   "id": "f737b9de",
   "metadata": {},
   "outputs": [],
   "source": [
    "model5 = random_search5.best_estimator_"
   ]
  },
  {
   "cell_type": "code",
   "execution_count": 66,
   "id": "773a82ad",
   "metadata": {},
   "outputs": [],
   "source": [
    "score = cross_val_score(model5,X,y,cv = 10)"
   ]
  },
  {
   "cell_type": "code",
   "execution_count": 67,
   "id": "1373a756",
   "metadata": {},
   "outputs": [
    {
     "name": "stdout",
     "output_type": "stream",
     "text": [
      "0.9599519439821271\n"
     ]
    }
   ],
   "source": [
    "mean = score.mean()\n",
    "print(mean)\n",
    "results['RandomForest Classifier'] = mean"
   ]
  },
  {
   "cell_type": "markdown",
   "id": "a5751f87",
   "metadata": {},
   "source": [
    "#### Gradient Boosting"
   ]
  },
  {
   "cell_type": "code",
   "execution_count": 68,
   "id": "e22561c2",
   "metadata": {},
   "outputs": [
    {
     "name": "stdout",
     "output_type": "stream",
     "text": [
      "Fitting 5 folds for each of 5 candidates, totalling 25 fits\n"
     ]
    },
    {
     "data": {
      "text/plain": [
       "RandomizedSearchCV(cv=5, estimator=GradientBoostingClassifier(), n_iter=5,\n",
       "                   n_jobs=-1,\n",
       "                   param_distributions={'learning_rate': [0.01, 0.1, 1, 10,\n",
       "                                                          100],\n",
       "                                        'max_depth': [1, 3, 5, 7, 9],\n",
       "                                        'n_estimators': [5, 50, 250, 500]},\n",
       "                   scoring='accuracy', verbose=3)"
      ]
     },
     "execution_count": 68,
     "metadata": {},
     "output_type": "execute_result"
    }
   ],
   "source": [
    "gbc = GradientBoostingClassifier()\n",
    "params = {\n",
    "        \"n_estimators\":[5,50,250,500],\n",
    "    \"max_depth\":[1,3,5,7,9],\n",
    "    \"learning_rate\":[0.01,0.1,1,10,100]\n",
    "}\n",
    "random_search6 = RandomizedSearchCV(gbc,param_distributions=params,n_iter = 5,scoring = 'accuracy',n_jobs = -1,cv = 5,verbose = 3)\n",
    "random_search6.fit(X,y)"
   ]
  },
  {
   "cell_type": "code",
   "execution_count": 69,
   "id": "6b2efcc0",
   "metadata": {},
   "outputs": [
    {
     "data": {
      "text/plain": [
       "{'n_estimators': 250, 'max_depth': 5, 'learning_rate': 0.1}"
      ]
     },
     "execution_count": 69,
     "metadata": {},
     "output_type": "execute_result"
    }
   ],
   "source": [
    "random_search6.best_params_"
   ]
  },
  {
   "cell_type": "code",
   "execution_count": 70,
   "id": "f902a0bc",
   "metadata": {},
   "outputs": [],
   "source": [
    "model6 = random_search6.best_estimator_"
   ]
  },
  {
   "cell_type": "code",
   "execution_count": 71,
   "id": "dee09518",
   "metadata": {},
   "outputs": [],
   "source": [
    "score = cross_val_score(model6,X,y,cv = 10)"
   ]
  },
  {
   "cell_type": "code",
   "execution_count": 72,
   "id": "caeda79c",
   "metadata": {},
   "outputs": [
    {
     "name": "stdout",
     "output_type": "stream",
     "text": [
      "0.9690451021846369\n"
     ]
    }
   ],
   "source": [
    "mean = score.mean()\n",
    "print(mean)\n",
    "results['Gradient Boosting Classifier'] = mean"
   ]
  },
  {
   "cell_type": "markdown",
   "id": "22979903",
   "metadata": {},
   "source": [
    "#### XG Boost"
   ]
  },
  {
   "cell_type": "code",
   "execution_count": 73,
   "id": "74099557",
   "metadata": {},
   "outputs": [],
   "source": [
    "xgb = XGBClassifier()"
   ]
  },
  {
   "cell_type": "code",
   "execution_count": 74,
   "id": "8012c5a7",
   "metadata": {},
   "outputs": [
    {
     "name": "stdout",
     "output_type": "stream",
     "text": [
      "Fitting 5 folds for each of 5 candidates, totalling 25 fits\n"
     ]
    },
    {
     "data": {
      "text/plain": [
       "RandomizedSearchCV(cv=5,\n",
       "                   estimator=XGBClassifier(base_score=None, booster=None,\n",
       "                                           callbacks=None,\n",
       "                                           colsample_bylevel=None,\n",
       "                                           colsample_bynode=None,\n",
       "                                           colsample_bytree=None,\n",
       "                                           early_stopping_rounds=None,\n",
       "                                           enable_categorical=False,\n",
       "                                           eval_metric=None, gamma=None,\n",
       "                                           gpu_id=None, grow_policy=None,\n",
       "                                           importance_type=None,\n",
       "                                           interaction_constraints=None,\n",
       "                                           learning_rate=None, max_bin=None,...\n",
       "                                           predictor=None, random_state=None,\n",
       "                                           reg_alpha=None, reg_lambda=None, ...),\n",
       "                   n_iter=5, n_jobs=-1,\n",
       "                   param_distributions={'colsample_bytree': [0.1, 0.2, 0.3, 0.4,\n",
       "                                                             0.5, 0.6, 0.7, 0.8,\n",
       "                                                             0.9, 1.0],\n",
       "                                        'gamma': [0.5, 1, 1.5, 2, 5],\n",
       "                                        'max_depth': [1, 2, 3, 4, 5, 6, 7, 8, 9,\n",
       "                                                      10],\n",
       "                                        'min_child_weight': [1, 2, 3, 4, 5, 6,\n",
       "                                                             7, 8, 9, 10],\n",
       "                                        'subsample': [0.1, 0.2, 0.3, 0.4, 0.5,\n",
       "                                                      0.6, 0.7, 0.8, 0.9,\n",
       "                                                      1.0]},\n",
       "                   scoring='accuracy', verbose=3)"
      ]
     },
     "execution_count": 74,
     "metadata": {},
     "output_type": "execute_result"
    }
   ],
   "source": [
    "params = {\n",
    "        'min_child_weight': [1,2,3,4,5,6,7,8,9,10],\n",
    "        'gamma': [0.5, 1, 1.5, 2, 5],\n",
    "        'subsample': [0.1,0.2,0.3,0.4,0.5,0.6,0.7, 0.8, 0.9,1.0],\n",
    "        'colsample_bytree': [0.1,0.2,0.3,0.4,0.5,0.6,0.7, 0.8,0.9, 1.0],\n",
    "        'max_depth': [1,2,3, 4, 5,6,7,8,9,10]\n",
    "        }\n",
    "random_search7 = RandomizedSearchCV(xgb,param_distributions=params,n_iter = 5,scoring = 'accuracy',n_jobs = -1,cv = 5,verbose = 3)\n",
    "random_search7.fit(X,y)"
   ]
  },
  {
   "cell_type": "code",
   "execution_count": 75,
   "id": "d42c2376",
   "metadata": {},
   "outputs": [
    {
     "data": {
      "text/plain": [
       "{'subsample': 1.0,\n",
       " 'min_child_weight': 1,\n",
       " 'max_depth': 8,\n",
       " 'gamma': 1.5,\n",
       " 'colsample_bytree': 1.0}"
      ]
     },
     "execution_count": 75,
     "metadata": {},
     "output_type": "execute_result"
    }
   ],
   "source": [
    "random_search7.best_params_"
   ]
  },
  {
   "cell_type": "code",
   "execution_count": 76,
   "id": "dd2938f7",
   "metadata": {},
   "outputs": [],
   "source": [
    "model7 = random_search7.best_estimator_"
   ]
  },
  {
   "cell_type": "code",
   "execution_count": 77,
   "id": "bd74acae",
   "metadata": {},
   "outputs": [],
   "source": [
    "score = cross_val_score(model7,X,y,cv = 10)"
   ]
  },
  {
   "cell_type": "code",
   "execution_count": 78,
   "id": "46805b5e",
   "metadata": {},
   "outputs": [
    {
     "name": "stdout",
     "output_type": "stream",
     "text": [
      "0.9707874139714813\n"
     ]
    }
   ],
   "source": [
    "mean = score.mean()\n",
    "print(mean)\n",
    "results['XG Boost Classifier'] = mean"
   ]
  },
  {
   "cell_type": "markdown",
   "id": "cc00bfe8",
   "metadata": {},
   "source": [
    "#### Logistic Regression"
   ]
  },
  {
   "cell_type": "code",
   "execution_count": 79,
   "id": "98530702",
   "metadata": {},
   "outputs": [],
   "source": [
    "params = {\n",
    "    'C':stat.loguniform(1e-5,100),\n",
    "    'solver' :['newton-cg', 'lbfgs', 'liblinear'],\n",
    "    'penalty':['none', 'l1', 'l2', 'elasticnet']\n",
    "}"
   ]
  },
  {
   "cell_type": "code",
   "execution_count": 80,
   "id": "44a8e33f",
   "metadata": {},
   "outputs": [],
   "source": [
    "lr = LogisticRegression()"
   ]
  },
  {
   "cell_type": "code",
   "execution_count": 81,
   "id": "3a1dc2f5",
   "metadata": {},
   "outputs": [
    {
     "name": "stdout",
     "output_type": "stream",
     "text": [
      "Fitting 5 folds for each of 5 candidates, totalling 25 fits\n"
     ]
    },
    {
     "data": {
      "text/plain": [
       "RandomizedSearchCV(cv=5, estimator=LogisticRegression(), n_iter=5, n_jobs=-1,\n",
       "                   param_distributions={'C': <scipy.stats._distn_infrastructure.rv_frozen object at 0x000002684E89FEC8>,\n",
       "                                        'penalty': ['none', 'l1', 'l2',\n",
       "                                                    'elasticnet'],\n",
       "                                        'solver': ['newton-cg', 'lbfgs',\n",
       "                                                   'liblinear']},\n",
       "                   scoring='accuracy', verbose=3)"
      ]
     },
     "execution_count": 81,
     "metadata": {},
     "output_type": "execute_result"
    }
   ],
   "source": [
    "random_search8 = RandomizedSearchCV(lr,param_distributions=params,n_iter = 5,scoring = 'accuracy',n_jobs = -1,cv = 5,verbose = 3)\n",
    "random_search8.fit(X,y)"
   ]
  },
  {
   "cell_type": "code",
   "execution_count": 82,
   "id": "3d8a2c2d",
   "metadata": {},
   "outputs": [
    {
     "data": {
      "text/plain": [
       "{'C': 7.507472608819218e-05, 'penalty': 'none', 'solver': 'newton-cg'}"
      ]
     },
     "execution_count": 82,
     "metadata": {},
     "output_type": "execute_result"
    }
   ],
   "source": [
    "random_search8.best_params_"
   ]
  },
  {
   "cell_type": "code",
   "execution_count": 83,
   "id": "39cc5045",
   "metadata": {},
   "outputs": [],
   "source": [
    "model8 = random_search8.best_estimator_\n",
    "score = cross_val_score(model8,X,y,cv = 10)"
   ]
  },
  {
   "cell_type": "code",
   "execution_count": 84,
   "id": "412cde93",
   "metadata": {},
   "outputs": [
    {
     "name": "stdout",
     "output_type": "stream",
     "text": [
      "0.9655634774264165\n"
     ]
    }
   ],
   "source": [
    "mean = score.mean()\n",
    "print(mean)\n",
    "results['Logistic Regression'] = mean"
   ]
  },
  {
   "cell_type": "markdown",
   "id": "eaae2ff2",
   "metadata": {},
   "source": [
    "### Final Results"
   ]
  },
  {
   "cell_type": "code",
   "execution_count": 85,
   "id": "4bf7ebd2",
   "metadata": {},
   "outputs": [],
   "source": [
    "result = pd.DataFrame({'Classifiers':results.keys(), 'accuracy':results.values()})"
   ]
  },
  {
   "cell_type": "code",
   "execution_count": 86,
   "id": "b8c88b01",
   "metadata": {},
   "outputs": [
    {
     "data": {
      "text/html": [
       "<div>\n",
       "<style scoped>\n",
       "    .dataframe tbody tr th:only-of-type {\n",
       "        vertical-align: middle;\n",
       "    }\n",
       "\n",
       "    .dataframe tbody tr th {\n",
       "        vertical-align: top;\n",
       "    }\n",
       "\n",
       "    .dataframe thead th {\n",
       "        text-align: right;\n",
       "    }\n",
       "</style>\n",
       "<table border=\"1\" class=\"dataframe\">\n",
       "  <thead>\n",
       "    <tr style=\"text-align: right;\">\n",
       "      <th></th>\n",
       "      <th>Classifiers</th>\n",
       "      <th>accuracy</th>\n",
       "    </tr>\n",
       "  </thead>\n",
       "  <tbody>\n",
       "    <tr>\n",
       "      <th>0</th>\n",
       "      <td>GaussianNB</td>\n",
       "      <td>0.915457</td>\n",
       "    </tr>\n",
       "    <tr>\n",
       "      <th>1</th>\n",
       "      <td>SVC</td>\n",
       "      <td>0.982975</td>\n",
       "    </tr>\n",
       "    <tr>\n",
       "      <th>2</th>\n",
       "      <td>AdaBoost Classifier</td>\n",
       "      <td>0.888763</td>\n",
       "    </tr>\n",
       "    <tr>\n",
       "      <th>3</th>\n",
       "      <td>DecisionTree Classifier</td>\n",
       "      <td>0.952795</td>\n",
       "    </tr>\n",
       "    <tr>\n",
       "      <th>4</th>\n",
       "      <td>RandomForest Classifier</td>\n",
       "      <td>0.959952</td>\n",
       "    </tr>\n",
       "    <tr>\n",
       "      <th>5</th>\n",
       "      <td>Gradient Boosting Classifier</td>\n",
       "      <td>0.969045</td>\n",
       "    </tr>\n",
       "    <tr>\n",
       "      <th>6</th>\n",
       "      <td>XG Boost Classifier</td>\n",
       "      <td>0.970787</td>\n",
       "    </tr>\n",
       "    <tr>\n",
       "      <th>7</th>\n",
       "      <td>Logistic Regression</td>\n",
       "      <td>0.965563</td>\n",
       "    </tr>\n",
       "  </tbody>\n",
       "</table>\n",
       "</div>"
      ],
      "text/plain": [
       "                    Classifiers  accuracy\n",
       "0                    GaussianNB  0.915457\n",
       "1                           SVC  0.982975\n",
       "2           AdaBoost Classifier  0.888763\n",
       "3       DecisionTree Classifier  0.952795\n",
       "4       RandomForest Classifier  0.959952\n",
       "5  Gradient Boosting Classifier  0.969045\n",
       "6           XG Boost Classifier  0.970787\n",
       "7           Logistic Regression  0.965563"
      ]
     },
     "execution_count": 86,
     "metadata": {},
     "output_type": "execute_result"
    }
   ],
   "source": [
    "result"
   ]
  },
  {
   "cell_type": "code",
   "execution_count": 87,
   "id": "4530d2e2",
   "metadata": {},
   "outputs": [
    {
     "data": {
      "text/plain": [
       "<AxesSubplot:xlabel='accuracy', ylabel='Classifiers'>"
      ]
     },
     "execution_count": 87,
     "metadata": {},
     "output_type": "execute_result"
    },
    {
     "data": {
      "image/png": "[encoded data removed]",
      "text/plain": [
       "<Figure size 600x400 with 1 Axes>"
      ]
     },
     "metadata": {},
     "output_type": "display_data"
    }
   ],
   "source": [
    "sns.barplot(x=result['accuracy'],y=result['Classifiers'])"
   ]
  },
  {
   "cell_type": "markdown",
   "id": "05241048",
   "metadata": {},
   "source": [
    "#### Main Model"
   ]
  },
  {
   "cell_type": "code",
   "execution_count": 88,
   "id": "b1f44366",
   "metadata": {},
   "outputs": [],
   "source": [
    "main_model = model2"
   ]
  },
  {
   "cell_type": "code",
   "execution_count": 89,
   "id": "eef9753a",
   "metadata": {},
   "outputs": [
    {
     "data": {
      "text/plain": [
       "SVC(C=10.272059474246117, gamma=0.45731960824012574, probability=True)"
      ]
     },
     "execution_count": 89,
     "metadata": {},
     "output_type": "execute_result"
    }
   ],
   "source": [
    "main_model.fit(X,y)"
   ]
  },
  {
   "cell_type": "code",
   "execution_count": 90,
   "id": "faf1bc85",
   "metadata": {},
   "outputs": [],
   "source": [
    "import pickle\n",
    "pickle_out = open(\"spam_classification.pkl\",\"wb\")\n",
    "pickle.dump(main_model,pickle_out)\n",
    "pickle.dump(tfidf,open(\"vectorizer.pkl\",\"wb\"))\n",
    "pickle_out.close()"
   ]
  },
  {
   "cell_type": "code",
   "execution_count": null,
   "id": "a489feb3",
   "metadata": {},
   "outputs": [],
   "source": []
  }
 ],
 "metadata": {
  "kernelspec": {
   "display_name": "Python 3 (ipykernel)",
   "language": "python",
   "name": "python3"
  },
  "language_info": {
   "codemirror_mode": {
    "name": "ipython",
    "version": 3
   },
   "file_extension": ".py",
   "mimetype": "text/x-python",
   "name": "python",
   "nbconvert_exporter": "python",
   "pygments_lexer": "ipython3",
   "version": "3.9.12"
  }
 },
 "nbformat": 4,
 "nbformat_minor": 5
}
